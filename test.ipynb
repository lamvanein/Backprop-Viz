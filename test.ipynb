{
 "cells": [
  {
   "cell_type": "code",
   "execution_count": 41,
   "metadata": {},
   "outputs": [],
   "source": [
    "from parsimonious.grammar import Grammar\n",
    "from parsimonious.nodes import NodeVisitor\n",
    "from abc import ABC\n",
    "import numpy as np \n",
    "from NameCreator import NameCreator\n",
    "import networkx as nx\n",
    "import matplotlib.pyplot as plt \n",
    "from tree import *\n",
    "\n",
    "%matplotlib inline\n",
    "grammar = Grammar(\n",
    "     \"\"\"\n",
    "        expr = (term add expr) /  term\n",
    "        term = (factor mul term) /  factor\n",
    "        factor = (left expr right) / const \n",
    "        add = \"+\"\n",
    "        mul = \"*\"\n",
    "        left = \"(\"\n",
    "        right = \")\"\n",
    "        const = ~\"[A-Z 0-9]*\"i\n",
    "     \"\"\")\n",
    "tree = grammar.parse(\"a+b+c\")"
   ]
  },
  {
   "cell_type": "code",
   "execution_count": 42,
   "metadata": {},
   "outputs": [],
   "source": [
    "def parse_expr(text,lookup):\n",
    "    tree = grammar.parse(text)\n",
    "    iv = IniVisitor()\n",
    "    output = iv.visit(tree)\n",
    "    return create_binary_tree(output,lookup)"
   ]
  },
  {
   "cell_type": "code",
   "execution_count": 43,
   "metadata": {},
   "outputs": [],
   "source": [
    "l = [(\"a\",\"1\"),(\"b\",\"2\"),(\"c\",\"a+b\")]\n",
    "lookup = dict()\n",
    "for name,value in l:\n",
    "    try:\n",
    "        v = float(value)  \n",
    "        tensor = Variable(name,float(value))\n",
    "        lookup[name] = tensor\n",
    "    except ValueError:\n",
    "        tensor = parse_expr(value,lookup)\n",
    "        tensor.name = name\n",
    "        lookup[name] = tensor"
   ]
  },
  {
   "cell_type": "code",
   "execution_count": 44,
   "metadata": {},
   "outputs": [],
   "source": [
    "class IniVisitor(NodeVisitor):\n",
    "    def visit_expr(self, node, visited_children):\n",
    "        \"\"\" Returns the overall output. \"\"\"\n",
    "        output = []\n",
    "        for child in visited_children[0]:\n",
    "            output.append(child)\n",
    "        return output\n",
    "    \n",
    "    def visit_term(self, node, visited_children):\n",
    "        \"\"\" Gets each key/value pair, returns a tuple. \"\"\"\n",
    "        return visited_children[0]\n",
    "\n",
    "    def visit_factor(self, node, visited_children):\n",
    "        \"\"\" Gets each key/value pair, returns a tuple. \"\"\"\n",
    "        return visited_children[0]\n",
    "    \n",
    "    def visit_const(self, node, visited_children):\n",
    "        \"\"\" Gets each key/value pair, returns a tuple. \"\"\"\n",
    "        return node.text\n",
    "    def visit_add(self, node, visited_children):\n",
    "        \"\"\" Gets each key/value pair, returns a tuple. \"\"\"\n",
    "        return node.text\n",
    "    def visit_mul(self, node, visited_children):\n",
    "        \"\"\" Gets each key/value pair, returns a tuple. \"\"\"\n",
    "        return node.text\n",
    "\n",
    "    def visit_left(self, node, visited_children):\n",
    "        \"\"\" Gets each key/value pair, returns a tuple. \"\"\"\n",
    "        return node.text\n",
    "    \n",
    "    def visit_right(self, node, visited_children):\n",
    "        \"\"\" Gets each key/value pair, returns a tuple. \"\"\"\n",
    "        return node.text\n",
    "\n",
    "    def generic_visit(self, node, visited_children):\n",
    "        \"\"\" The generic visit method. \"\"\"\n",
    "        return visited_children or node"
   ]
  },
  {
   "cell_type": "code",
   "execution_count": 45,
   "metadata": {},
   "outputs": [
    {
     "name": "stdout",
     "output_type": "stream",
     "text": [
      "['a', '+', ['b', '+', ['c']]]\n"
     ]
    }
   ],
   "source": [
    "iv = IniVisitor()\n",
    "output = iv.visit(tree)\n",
    "print(output)"
   ]
  },
  {
   "cell_type": "code",
   "execution_count": 46,
   "metadata": {},
   "outputs": [],
   "source": [
    "class Tensor(ABC):\n",
    "    def calculation(self):\n",
    "        #Compute the value of current node\n",
    "        pass\n",
    "\n",
    "    def accept(self,visitor,ctx):\n",
    "        visitor.visit(self,ctx)\n",
    "\n",
    "class Expression(Tensor):\n",
    "    def __init__(self,lhs:Tensor,op:str,rhs:Tensor,name=None):\n",
    "        self.lhs = lhs\n",
    "        self.rhs = rhs\n",
    "        self.op = op\n",
    "        self.value = self.calculation()\n",
    "        self.grad = 0\n",
    "        self.name = name if name else NameCreator.getName()\n",
    "        \n",
    "    def calculation(self):\n",
    "        if self.op == '+':\n",
    "            return self.lhs.calculation() + self.rhs.calculation()\n",
    "        else:\n",
    "            return self.lhs.calculation() * self.rhs.calculation()\n",
    "\n",
    "    def accept(self,visitor,ctx):\n",
    "        visitor.visit_Expression(self,ctx)\n",
    "\n",
    "    def __str__(self,level=0):\n",
    "        return self.get_str()\n",
    "\n",
    "    def get_str(self,level=0):\n",
    "        return '\\n'+'\\t'*level+\"<var: \"+self.name+ \" grad:\"+str(self.grad)+\" value:\"+str(self.value)+\">\"+\\\n",
    "                self.lhs.get_str(level+1)+\\\n",
    "                '\\n'+'\\t'*(level+1)+ '<'+str(self.op)+'/>'+\\\n",
    "                self.rhs.get_str(level+1)+\\\n",
    "                '\\n'+'\\t'*level+\"</>\"\n",
    "    \n",
    "class Variable(Tensor):\n",
    "    def __init__(self,name:str,value:float=0):\n",
    "        self.name = name\n",
    "        self.value = np.random.randint(1,10,1)[0]\n",
    "        self.grad = 0\n",
    "        \n",
    "    def calculation(self):\n",
    "        return self.value\n",
    "    \n",
    "    def accept(self,visitor,ctx):\n",
    "        visitor.visit_Variable(self,ctx)\n",
    "    \n",
    "    def get_str(self,level=0):\n",
    "        return '\\n'+'\\t'*level+\"<\"+'var:'+ self.name + \" value:\"+str(self.value)+ ' grad:' +str(self.grad)+\"/>\"\n",
    "    \n",
    "    def __str__(self,level=0):\n",
    "        return self.get_str()\n",
    "\n",
    "def create_binary_tree(output,lookup):\n",
    "    \"\"\"\n",
    "    :param output: output of visitor\n",
    "    :param lookup: dictionary map name -> Variable object\n",
    "    \"\"\"\n",
    "    if type(output) is str:\n",
    "        if output in lookup:\n",
    "            instance = lookup[output]\n",
    "            if not isinstance(instance,Expression):\n",
    "                return instance\n",
    "            return Expression(create_binary_tree(instance.lhs.name,lookup),\n",
    "                        instance.op,\n",
    "                        create_binary_tree(instance.rhs.name,lookup),output)\n",
    "        else:\n",
    "            tmp = Variable(output)\n",
    "            lookup[output] = tmp\n",
    "            return tmp\n",
    "\n",
    "    # \n",
    "    if len(output) == 1:\n",
    "        if output[0] in lookup:\n",
    "            instance = lookup[output[0]]\n",
    "            if not isinstance(instance,Expression):\n",
    "                return instance\n",
    "            return Expression(create_binary_tree(instance.lhs.name,lookup),\n",
    "                        instance.op,\n",
    "                        create_binary_tree(instance.rhs.name,lookup),output[0])\n",
    "        else:\n",
    "            tmp = Variable(output[0])\n",
    "            lookup[output[0]] = tmp\n",
    "            return tmp\n",
    "    else:\n",
    "        # parenthesis => calculate the expression inside it\n",
    "        if output[0] == '(':\n",
    "            return create_binary_tree(output[1],lookup)\n",
    "        # recursive construct tree\n",
    "        return Expression(create_binary_tree(output[0],lookup),\n",
    "                        output[1],\n",
    "                        create_binary_tree(output[2],lookup))"
   ]
  },
  {
   "cell_type": "code",
   "execution_count": 47,
   "metadata": {},
   "outputs": [],
   "source": [
    "tree = create_binary_tree(output,lookup)"
   ]
  },
  {
   "cell_type": "code",
   "execution_count": 48,
   "metadata": {},
   "outputs": [
    {
     "name": "stdout",
     "output_type": "stream",
     "text": [
      "\n",
      "<var: @temp_8 grad:0 value:30>\n",
      "\t<var:a value:9 grad:0/>\n",
      "\t<+/>\n",
      "\t<var: @temp_7 grad:0 value:21>\n",
      "\t\t<var:b value:6 grad:0/>\n",
      "\t\t<+/>\n",
      "\t\t<var: c grad:0 value:15>\n",
      "\t\t\t<var:a value:9 grad:0/>\n",
      "\t\t\t<+/>\n",
      "\t\t\t<var:b value:6 grad:0/>\n",
      "\t\t</>\n",
      "\t</>\n",
      "</>\n"
     ]
    }
   ],
   "source": [
    "print(str(tree))"
   ]
  },
  {
   "cell_type": "code",
   "execution_count": 49,
   "metadata": {},
   "outputs": [],
   "source": [
    "class BackwardVisitor():\n",
    "    def visit(self,node,ctx):\n",
    "        node.accept(self,ctx)\n",
    "\n",
    "    def calc_grad(self,node,ctx):\n",
    "        op = ctx['op']\n",
    "        prev_grad = ctx['grad']\n",
    "        co_value = ctx['value']\n",
    "\n",
    "        if op == '+':\n",
    "            node.grad += prev_grad\n",
    "        else:\n",
    "            node.grad += prev_grad*co_value\n",
    "\n",
    "    def visit_Expression(self,node,ctx):\n",
    "        self.calc_grad(node,ctx)\n",
    "        ctx_lhs = {'grad':node.grad,'op':node.op,'value':node.rhs.value}\n",
    "        ctx_rhs = {'grad':node.grad,'op':node.op,'value':node.lhs.value}\n",
    "        self.visit(node.lhs,ctx_lhs)\n",
    "        self.visit(node.rhs,ctx_rhs)\n",
    "    \n",
    "    def visit_Variable(self,node,ctx):\n",
    "        self.calc_grad(node,ctx)"
   ]
  },
  {
   "cell_type": "code",
   "execution_count": 50,
   "metadata": {},
   "outputs": [],
   "source": [
    "v = BackwardVisitor()\n",
    "ctx = {'grad':1,'op':'+','value':0}\n",
    "v.visit(tree,ctx)"
   ]
  },
  {
   "cell_type": "code",
   "execution_count": 51,
   "metadata": {},
   "outputs": [
    {
     "name": "stdout",
     "output_type": "stream",
     "text": [
      "\n",
      "<var: @temp_8 grad:1 value:30>\n",
      "\t<var:a value:9 grad:2/>\n",
      "\t<+/>\n",
      "\t<var: @temp_7 grad:1 value:21>\n",
      "\t\t<var:b value:6 grad:2/>\n",
      "\t\t<+/>\n",
      "\t\t<var: c grad:1 value:15>\n",
      "\t\t\t<var:a value:9 grad:2/>\n",
      "\t\t\t<+/>\n",
      "\t\t\t<var:b value:6 grad:2/>\n",
      "\t\t</>\n",
      "\t</>\n",
      "</>\n"
     ]
    }
   ],
   "source": [
    "print(str(tree))"
   ]
  },
  {
   "cell_type": "code",
   "execution_count": 52,
   "metadata": {},
   "outputs": [],
   "source": [
    "def find_edges(head):\n",
    "    ret = []\n",
    "    if isinstance(head,Variable):\n",
    "        return ret\n",
    "    else:\n",
    "        left_edges = find_edges(head.lhs)\n",
    "        right_edges = find_edges(head.rhs)\n",
    "        ret = ret + left_edges + right_edges\n",
    "        ret.append((head.lhs.name,head.name,head.lhs_grad))\n",
    "        ret.append((head.rhs.name,head.name,head.rhs_grad))\n",
    "        return ret\n",
    "\n",
    "def find_nodes(head):\n",
    "    ret = dict()\n",
    "    if isinstance(head,Variable):\n",
    "        ret[head.name] = 'var'\n",
    "        return ret\n",
    "    else:\n",
    "        left_nodes = find_nodes(head.lhs)\n",
    "        right_nodes = find_nodes(head.rhs)\n",
    "        ret.update(left_nodes)\n",
    "        ret.update(right_nodes)\n",
    "        ret[head.name] = 'add' if head.op == '+' else 'mul'\n",
    "        return ret"
   ]
  },
  {
   "cell_type": "code",
   "execution_count": 53,
   "metadata": {},
   "outputs": [
    {
     "ename": "AttributeError",
     "evalue": "'Variable' object has no attribute 'lhs'",
     "output_type": "error",
     "traceback": [
      "\u001b[0;31m---------------------------------------------------------------------------\u001b[0m",
      "\u001b[0;31mAttributeError\u001b[0m                            Traceback (most recent call last)",
      "\u001b[0;32m<ipython-input-53-9315f3250028>\u001b[0m in \u001b[0;36m<module>\u001b[0;34m\u001b[0m\n\u001b[0;32m----> 1\u001b[0;31m \u001b[0mv\u001b[0m \u001b[0;34m=\u001b[0m \u001b[0mfind_nodes\u001b[0m\u001b[0;34m(\u001b[0m\u001b[0mtree\u001b[0m\u001b[0;34m)\u001b[0m\u001b[0;34m\u001b[0m\u001b[0;34m\u001b[0m\u001b[0m\n\u001b[0m\u001b[1;32m      2\u001b[0m \u001b[0me\u001b[0m \u001b[0;34m=\u001b[0m \u001b[0mfind_edges\u001b[0m\u001b[0;34m(\u001b[0m\u001b[0mtree\u001b[0m\u001b[0;34m)\u001b[0m\u001b[0;34m\u001b[0m\u001b[0;34m\u001b[0m\u001b[0m\n\u001b[1;32m      3\u001b[0m \u001b[0;34m\u001b[0m\u001b[0m\n\u001b[1;32m      4\u001b[0m \u001b[0mcolormap\u001b[0m \u001b[0;34m=\u001b[0m \u001b[0mlist\u001b[0m\u001b[0;34m(\u001b[0m\u001b[0;34m)\u001b[0m\u001b[0;34m\u001b[0m\u001b[0;34m\u001b[0m\u001b[0m\n\u001b[1;32m      5\u001b[0m \u001b[0;32mfor\u001b[0m \u001b[0mk\u001b[0m \u001b[0;32min\u001b[0m \u001b[0mv\u001b[0m\u001b[0;34m:\u001b[0m\u001b[0;34m\u001b[0m\u001b[0;34m\u001b[0m\u001b[0m\n",
      "\u001b[0;32m<ipython-input-52-c38b27bd611d>\u001b[0m in \u001b[0;36mfind_nodes\u001b[0;34m(head)\u001b[0m\n\u001b[1;32m     17\u001b[0m         \u001b[0;32mreturn\u001b[0m \u001b[0mret\u001b[0m\u001b[0;34m\u001b[0m\u001b[0;34m\u001b[0m\u001b[0m\n\u001b[1;32m     18\u001b[0m     \u001b[0;32melse\u001b[0m\u001b[0;34m:\u001b[0m\u001b[0;34m\u001b[0m\u001b[0;34m\u001b[0m\u001b[0m\n\u001b[0;32m---> 19\u001b[0;31m         \u001b[0mleft_nodes\u001b[0m \u001b[0;34m=\u001b[0m \u001b[0mfind_nodes\u001b[0m\u001b[0;34m(\u001b[0m\u001b[0mhead\u001b[0m\u001b[0;34m.\u001b[0m\u001b[0mlhs\u001b[0m\u001b[0;34m)\u001b[0m\u001b[0;34m\u001b[0m\u001b[0;34m\u001b[0m\u001b[0m\n\u001b[0m\u001b[1;32m     20\u001b[0m         \u001b[0mright_nodes\u001b[0m \u001b[0;34m=\u001b[0m \u001b[0mfind_nodes\u001b[0m\u001b[0;34m(\u001b[0m\u001b[0mhead\u001b[0m\u001b[0;34m.\u001b[0m\u001b[0mrhs\u001b[0m\u001b[0;34m)\u001b[0m\u001b[0;34m\u001b[0m\u001b[0;34m\u001b[0m\u001b[0m\n\u001b[1;32m     21\u001b[0m         \u001b[0mret\u001b[0m\u001b[0;34m.\u001b[0m\u001b[0mupdate\u001b[0m\u001b[0;34m(\u001b[0m\u001b[0mleft_nodes\u001b[0m\u001b[0;34m)\u001b[0m\u001b[0;34m\u001b[0m\u001b[0;34m\u001b[0m\u001b[0m\n",
      "\u001b[0;32m<ipython-input-52-c38b27bd611d>\u001b[0m in \u001b[0;36mfind_nodes\u001b[0;34m(head)\u001b[0m\n\u001b[1;32m     17\u001b[0m         \u001b[0;32mreturn\u001b[0m \u001b[0mret\u001b[0m\u001b[0;34m\u001b[0m\u001b[0;34m\u001b[0m\u001b[0m\n\u001b[1;32m     18\u001b[0m     \u001b[0;32melse\u001b[0m\u001b[0;34m:\u001b[0m\u001b[0;34m\u001b[0m\u001b[0;34m\u001b[0m\u001b[0m\n\u001b[0;32m---> 19\u001b[0;31m         \u001b[0mleft_nodes\u001b[0m \u001b[0;34m=\u001b[0m \u001b[0mfind_nodes\u001b[0m\u001b[0;34m(\u001b[0m\u001b[0mhead\u001b[0m\u001b[0;34m.\u001b[0m\u001b[0mlhs\u001b[0m\u001b[0;34m)\u001b[0m\u001b[0;34m\u001b[0m\u001b[0;34m\u001b[0m\u001b[0m\n\u001b[0m\u001b[1;32m     20\u001b[0m         \u001b[0mright_nodes\u001b[0m \u001b[0;34m=\u001b[0m \u001b[0mfind_nodes\u001b[0m\u001b[0;34m(\u001b[0m\u001b[0mhead\u001b[0m\u001b[0;34m.\u001b[0m\u001b[0mrhs\u001b[0m\u001b[0;34m)\u001b[0m\u001b[0;34m\u001b[0m\u001b[0;34m\u001b[0m\u001b[0m\n\u001b[1;32m     21\u001b[0m         \u001b[0mret\u001b[0m\u001b[0;34m.\u001b[0m\u001b[0mupdate\u001b[0m\u001b[0;34m(\u001b[0m\u001b[0mleft_nodes\u001b[0m\u001b[0;34m)\u001b[0m\u001b[0;34m\u001b[0m\u001b[0;34m\u001b[0m\u001b[0m\n",
      "\u001b[0;31mAttributeError\u001b[0m: 'Variable' object has no attribute 'lhs'"
     ]
    }
   ],
   "source": [
    "v = find_nodes(tree)\n",
    "e = find_edges(tree)\n",
    "\n",
    "colormap = list()\n",
    "for k in v:\n",
    "    if v[k] == 'var':\n",
    "        colormap.append('#3F51B5')\n",
    "    elif v[k] == 'add':\n",
    "        colormap.append('#FFC107')\n",
    "    else:\n",
    "        colormap.append('#F44336')\n",
    "v = list(v)\n",
    "#colormap = np.arange(len(colormap))/10\n",
    "e.reverse()\n",
    "G = nx.DiGraph()\n",
    "\n",
    "G.add_nodes_from(v)\n",
    "for edge in e:\n",
    "    src, tgt, w = edge\n",
    "    G.add_edge(tgt, src, weight=w)\n",
    "\n",
    "edge_labels = nx.get_edge_attributes(G, 'weight')\n",
    "norm = plt.Normalize(1, 4)\n",
    "cmap = plt.cm.RdYlGn\n",
    "fig, ax = plt.subplots()\n",
    "plt.title('draw_networkx')\n",
    "pos = nx.drawing.nx_agraph.graphviz_layout(\n",
    "    G, prog='dot', args='-Nfontsize=10 -Nwidth=\"10\" -Nheight=\"1\" -Nmargin=0 -Gfontsize=8')\n",
    "nx.draw(G, pos, with_labels=True, arrows=True,\n",
    "        node_size=1500, node_color=colormap)\n",
    "nx.draw_networkx_edge_labels(G, pos, edge_labels=edge_labels)\n",
    "plt.show()"
   ]
  },
  {
   "cell_type": "code",
   "execution_count": 54,
   "metadata": {},
   "outputs": [
    {
     "ename": "NameError",
     "evalue": "name 'e' is not defined",
     "output_type": "error",
     "traceback": [
      "\u001b[0;31m---------------------------------------------------------------------------\u001b[0m",
      "\u001b[0;31mNameError\u001b[0m                                 Traceback (most recent call last)",
      "\u001b[0;32m<ipython-input-54-c1336fde3ae6>\u001b[0m in \u001b[0;36m<module>\u001b[0;34m\u001b[0m\n\u001b[1;32m      6\u001b[0m \u001b[0;34m\u001b[0m\u001b[0m\n\u001b[1;32m      7\u001b[0m \u001b[0mG\u001b[0m \u001b[0;34m=\u001b[0m \u001b[0mnx\u001b[0m\u001b[0;34m.\u001b[0m\u001b[0mGraph\u001b[0m\u001b[0;34m(\u001b[0m\u001b[0;34m)\u001b[0m\u001b[0;34m\u001b[0m\u001b[0;34m\u001b[0m\u001b[0m\n\u001b[0;32m----> 8\u001b[0;31m \u001b[0mG\u001b[0m\u001b[0;34m.\u001b[0m\u001b[0madd_edges_from\u001b[0m\u001b[0;34m(\u001b[0m\u001b[0me\u001b[0m\u001b[0;34m)\u001b[0m\u001b[0;34m\u001b[0m\u001b[0;34m\u001b[0m\u001b[0m\n\u001b[0m\u001b[1;32m      9\u001b[0m \u001b[0mG\u001b[0m\u001b[0;34m.\u001b[0m\u001b[0madd_nodes_from\u001b[0m\u001b[0;34m(\u001b[0m\u001b[0mv\u001b[0m\u001b[0;34m)\u001b[0m\u001b[0;34m\u001b[0m\u001b[0;34m\u001b[0m\u001b[0m\n\u001b[1;32m     10\u001b[0m \u001b[0;34m\u001b[0m\u001b[0m\n",
      "\u001b[0;31mNameError\u001b[0m: name 'e' is not defined"
     ]
    },
    {
     "data": {
      "text/plain": [
       "<Figure size 432x288 with 0 Axes>"
      ]
     },
     "metadata": {},
     "output_type": "display_data"
    }
   ],
   "source": [
    "import networkx as nx\n",
    "import matplotlib.pyplot as plt\n",
    "from matplotlib.animation import FuncAnimation\n",
    "\n",
    "fig = plt.figure()\n",
    "\n",
    "G = nx.Graph()\n",
    "G.add_edges_from(e)\n",
    "G.add_nodes_from(v)\n",
    "\n",
    "pos=nx.drawing.nx_agraph.graphviz_layout(G, prog='dot')\n",
    "edges = nx.draw_networkx_edges(G, pos, edge_color = 'w',with_labels=True)\n",
    "nodes = nx.draw_networkx_nodes(G, pos, node_color = 'g',with_labels=True)\n",
    "\n",
    "white = (1,1,1,1)\n",
    "black = (0,0,0,1)\n",
    "\n",
    "colors = [white for edge in edges.get_segments()]\n",
    "\n",
    "def update(n):\n",
    "    global colors\n",
    "\n",
    "    try:\n",
    "        idx = colors.index(white)\n",
    "        colors[idx] = black\n",
    "    except ValueError:\n",
    "        colors = [white for edge in edges.get_segments()]\n",
    "\n",
    "    edges.set_color(colors)\n",
    "    return edges, nodes\n",
    "\n",
    "anim = FuncAnimation(fig, update, interval=150, blit = True) \n",
    "\n",
    "plt.show()"
   ]
  },
  {
   "cell_type": "code",
   "execution_count": 30,
   "metadata": {},
   "outputs": [
    {
     "ename": "NameError",
     "evalue": "name 'e' is not defined",
     "output_type": "error",
     "traceback": [
      "\u001b[0;31m---------------------------------------------------------------------------\u001b[0m",
      "\u001b[0;31mNameError\u001b[0m                                 Traceback (most recent call last)",
      "\u001b[0;32m<ipython-input-30-ad6a3c5ed18e>\u001b[0m in \u001b[0;36m<module>\u001b[0;34m\u001b[0m\n\u001b[1;32m      3\u001b[0m \u001b[0;32mfrom\u001b[0m \u001b[0mmatplotlib\u001b[0m\u001b[0;34m.\u001b[0m\u001b[0manimation\u001b[0m \u001b[0;32mimport\u001b[0m \u001b[0mFuncAnimation\u001b[0m\u001b[0;34m\u001b[0m\u001b[0;34m\u001b[0m\u001b[0m\n\u001b[1;32m      4\u001b[0m \u001b[0;34m\u001b[0m\u001b[0m\n\u001b[0;32m----> 5\u001b[0;31m \u001b[0me\u001b[0m\u001b[0;34m.\u001b[0m\u001b[0mreverse\u001b[0m\u001b[0;34m(\u001b[0m\u001b[0;34m)\u001b[0m\u001b[0;34m\u001b[0m\u001b[0;34m\u001b[0m\u001b[0m\n\u001b[0m\u001b[1;32m      6\u001b[0m \u001b[0mG\u001b[0m \u001b[0;34m=\u001b[0m \u001b[0mnx\u001b[0m\u001b[0;34m.\u001b[0m\u001b[0mDiGraph\u001b[0m\u001b[0;34m(\u001b[0m\u001b[0;34m)\u001b[0m\u001b[0;34m\u001b[0m\u001b[0;34m\u001b[0m\u001b[0m\n\u001b[1;32m      7\u001b[0m \u001b[0;34m\u001b[0m\u001b[0m\n",
      "\u001b[0;31mNameError\u001b[0m: name 'e' is not defined"
     ]
    }
   ],
   "source": [
    "import networkx as nx\n",
    "import matplotlib.pyplot as plt\n",
    "from matplotlib.animation import FuncAnimation\n",
    "\n",
    "e.reverse()\n",
    "G = nx.DiGraph()\n",
    "\n",
    "G.add_nodes_from(v)\n",
    "G.add_edges_from(e)\n",
    "\n",
    "plt.title('draw_networkx')\n",
    "pos=nx.drawing.nx_agraph.graphviz_layout(G, prog='dot',args='-Nfontsize=10 -Nwidth=\"10\" -Nheight=\"1\" -Nmargin=0 -Gfontsize=8')\n",
    "nx.draw(G, pos, with_labels=True, arrows=True,node_size=1000,node_color=colormap)\n",
    "plt.show()"
   ]
  },
  {
   "cell_type": "code",
   "execution_count": 1,
   "metadata": {},
   "outputs": [
    {
     "data": {
      "text/plain": [
       "<Figure size 640x480 with 1 Axes>"
      ]
     },
     "metadata": {},
     "output_type": "display_data"
    }
   ],
   "source": [
    "import matplotlib.pyplot as plt\n",
    "import numpy as np; np.random.seed(1)\n",
    "x = np.random.rand(15)\n",
    "y = np.random.rand(15)\n",
    "names = np.array(list(\"ABCDEFGHIJKLMNO\"))\n",
    "c = np.random.randint(1,5,size=15)\n",
    "norm = plt.Normalize(1,4)\n",
    "cmap = plt.cm.RdYlGn\n",
    "fig,ax = plt.subplots()\n",
    "sc = plt.scatter(x,y,c=c, s=100, cmap=cmap, norm=norm)\n",
    "annot = ax.annotate(\"\", xy=(0,0), xytext=(20,20),textcoords=\"offset points\",\n",
    "                    bbox=dict(boxstyle=\"round\", fc=\"w\"),\n",
    "                    arrowprops=dict(arrowstyle=\"->\"))\n",
    "annot.set_visible(False)\n",
    "def update_annot(ind):\n",
    "    pos = sc.get_offsets()[ind[\"ind\"][0]]\n",
    "    annot.xy = pos\n",
    "    text = \"{}, {}\".format(\" \".join(list(map(str,ind[\"ind\"]))), \n",
    "                           \" \".join([names[n] for n in ind[\"ind\"]]))\n",
    "    annot.set_text(text)\n",
    "    annot.get_bbox_patch().set_facecolor(cmap(norm(c[ind[\"ind\"][0]])))\n",
    "    annot.get_bbox_patch().set_alpha(0.4)\n",
    "def hover(event):\n",
    "    vis = annot.get_visible()\n",
    "    if event.inaxes == ax:\n",
    "        cont, ind = sc.contains(event)\n",
    "        if cont:\n",
    "            update_annot(ind)\n",
    "            annot.set_visible(True)\n",
    "            fig.canvas.draw_idle()\n",
    "        else:\n",
    "            if vis:\n",
    "                annot.set_visible(False)\n",
    "                fig.canvas.draw_idle()\n",
    "fig.canvas.mpl_connect(\"motion_notify_event\", hover)\n",
    "plt.show()"
   ]
  },
  {
   "cell_type": "code",
   "execution_count": null,
   "metadata": {},
   "outputs": [],
   "source": []
  }
 ],
 "metadata": {
  "kernelspec": {
   "display_name": "Python 3",
   "language": "python",
   "name": "python3"
  },
  "language_info": {
   "codemirror_mode": {
    "name": "ipython",
    "version": 3
   },
   "file_extension": ".py",
   "mimetype": "text/x-python",
   "name": "python",
   "nbconvert_exporter": "python",
   "pygments_lexer": "ipython3",
   "version": "3.7.3"
  }
 },
 "nbformat": 4,
 "nbformat_minor": 2
}
